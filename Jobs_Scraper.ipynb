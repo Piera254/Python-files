{
 "cells": [
  {
   "cell_type": "markdown",
   "id": "ab33ad50-35a5-4756-beef-7f9e9393260d",
   "metadata": {},
   "source": [
    "\n",
    " ## JobsScraper ## \n",
    "In this project we are going to scrape the list of jobs on myjobmags website.\n",
    "\n",
    "We are going to fetch the jobtitle, application link and the date it was posted and also put the data in a csv format."
   ]
  },
  {
   "cell_type": "code",
   "execution_count": 1,
   "id": "a480af0f-4a26-4e63-aeb6-6d666fc8b969",
   "metadata": {},
   "outputs": [],
   "source": [
    "import requests\n",
    "import bs4\n",
    "from bs4 import BeautifulSoup\n",
    "import pandas as pd"
   ]
  },
  {
   "cell_type": "code",
   "execution_count": 4,
   "id": "6284bf24-5b6a-4b34-a376-f7a76be66bc5",
   "metadata": {},
   "outputs": [],
   "source": [
    "url = \"https://www.myjobmag.co.ke/\"\n",
    "data = requests.get(url)\n",
    "soup = BeautifulSoup (data.text, 'html.parser')"
   ]
  },
  {
   "cell_type": "code",
   "execution_count": 7,
   "id": "caaf9135-e5e3-4fb0-981e-c8d6e83ee4b6",
   "metadata": {},
   "outputs": [
    {
     "name": "stdout",
     "output_type": "stream",
     "text": [
      "Current Jobs in Kenya Today\n",
      "Currently_scraping: 1\n",
      "Currently_scraping: 2\n",
      "Currently_scraping: 3\n",
      "Currently_scraping: 4\n",
      "Currently_scraping: 5\n",
      "Currently_scraping: 6\n",
      "Thats all for Today\n"
     ]
    }
   ],
   "source": [
    "\n",
    "current_page = 1\n",
    "proceed = True\n",
    "pages =  5 \n",
    "df =  [ ]\n",
    "print(\"Current Jobs in Kenya Today\")\n",
    "while (proceed):\n",
    "    url = \"https://www.myjobmag.co.ke/page/\" + str(current_page)\n",
    "    print(\"Currently_scraping:\" , current_page)\n",
    "    data = requests.get(url)\n",
    "    soup = BeautifulSoup (data.text, 'html.parser')\n",
    "    if current_page >pages:\n",
    "        proceed = False\n",
    "    else:\n",
    "        h2 = soup.find_all(\"h2\")\n",
    "    for h in h2:\n",
    "        item = {}\n",
    "        title =  h.find(\"a\")\n",
    "        #title = title.text.strip()\n",
    "        if title is None:\n",
    "                continue\n",
    "        item[\"Job Title\"] = title.text.strip()\n",
    "        item[\"Application Link\"] =   h.find(\"a\")[\"href\"]\n",
    "        item[\"Date Posted\"] = soup.find(\"li\",  id =\"job-date\").text.strip()\n",
    "        df.append(item)\n",
    "        \n",
    "    current_page +=1     \n",
    "print (\"Thats all for Today\")\n",
    "df1 = pd.DataFrame(df)\n",
    "df1.to_csv(\"Jobs in Kenya Today.csv\", index = False)"
   ]
  },
  {
   "cell_type": "code",
   "execution_count": 4,
   "id": "042a6e71-3f5e-4d72-a7f8-c85a9d4c2137",
   "metadata": {},
   "outputs": [
    {
     "name": "stdout",
     "output_type": "stream",
     "text": [
      "                                               title  \\\n",
      "0                       Careers at Absa Bank Limited   \n",
      "1                     Office Administrator at Amanbo   \n",
      "2  Customer Service Representative (Mombasa Based...   \n",
      "3                Careers at Jamii Telecommunications   \n",
      "4                              Jobs at Adept Systems   \n",
      "\n",
      "                                                link    date  \n",
      "0  /jobs/junior-administrator-operations-at-absa-...  05 May  \n",
      "1                   /job/office-administrator-amanbo  05 May  \n",
      "2  /job/customer-service-representative-mombasa-b...  05 May  \n",
      "3        /jobs/careers-at-jamii-telecommunications-1  05 May  \n",
      "4                      /jobs/jobs-at-adept-systems-2  05 May  \n"
     ]
    }
   ],
   "source": [
    "df1 = pd.DataFrame(df)\n",
    "print(df1.head())\n",
    "df1.to_csv(\"Jobs in Kenya Today.csv\", index = False)"
   ]
  },
  {
   "cell_type": "code",
   "execution_count": 5,
   "id": "3ec950e6-5e95-44b6-9a7e-10f6882743b2",
   "metadata": {},
   "outputs": [],
   "source": [
    "data = pd.read_csv(\"Jobs in Kenya Today.csv\")"
   ]
  },
  {
   "cell_type": "code",
   "execution_count": 6,
   "id": "94d679d5-34db-42c9-9f0c-4ac93284f845",
   "metadata": {},
   "outputs": [
    {
     "data": {
      "text/html": [
       "<div>\n",
       "<style scoped>\n",
       "    .dataframe tbody tr th:only-of-type {\n",
       "        vertical-align: middle;\n",
       "    }\n",
       "\n",
       "    .dataframe tbody tr th {\n",
       "        vertical-align: top;\n",
       "    }\n",
       "\n",
       "    .dataframe thead th {\n",
       "        text-align: right;\n",
       "    }\n",
       "</style>\n",
       "<table border=\"1\" class=\"dataframe\">\n",
       "  <thead>\n",
       "    <tr style=\"text-align: right;\">\n",
       "      <th></th>\n",
       "      <th>Unnamed: 0</th>\n",
       "      <th>title</th>\n",
       "      <th>link</th>\n",
       "      <th>date</th>\n",
       "    </tr>\n",
       "  </thead>\n",
       "  <tbody>\n",
       "    <tr>\n",
       "      <th>0</th>\n",
       "      <td>0</td>\n",
       "      <td>Careers at Absa Bank Limited</td>\n",
       "      <td>/jobs/junior-administrator-operations-at-absa-...</td>\n",
       "      <td>05 May</td>\n",
       "    </tr>\n",
       "    <tr>\n",
       "      <th>1</th>\n",
       "      <td>1</td>\n",
       "      <td>Office Administrator at Amanbo</td>\n",
       "      <td>/job/office-administrator-amanbo</td>\n",
       "      <td>05 May</td>\n",
       "    </tr>\n",
       "    <tr>\n",
       "      <th>2</th>\n",
       "      <td>2</td>\n",
       "      <td>Customer Service Representative (Mombasa Based...</td>\n",
       "      <td>/job/customer-service-representative-mombasa-b...</td>\n",
       "      <td>05 May</td>\n",
       "    </tr>\n",
       "    <tr>\n",
       "      <th>3</th>\n",
       "      <td>3</td>\n",
       "      <td>Careers at Jamii Telecommunications</td>\n",
       "      <td>/jobs/careers-at-jamii-telecommunications-1</td>\n",
       "      <td>05 May</td>\n",
       "    </tr>\n",
       "    <tr>\n",
       "      <th>4</th>\n",
       "      <td>4</td>\n",
       "      <td>Jobs at Adept Systems</td>\n",
       "      <td>/jobs/jobs-at-adept-systems-2</td>\n",
       "      <td>05 May</td>\n",
       "    </tr>\n",
       "  </tbody>\n",
       "</table>\n",
       "</div>"
      ],
      "text/plain": [
       "   Unnamed: 0                                              title  \\\n",
       "0           0                       Careers at Absa Bank Limited   \n",
       "1           1                     Office Administrator at Amanbo   \n",
       "2           2  Customer Service Representative (Mombasa Based...   \n",
       "3           3                Careers at Jamii Telecommunications   \n",
       "4           4                              Jobs at Adept Systems   \n",
       "\n",
       "                                                link    date  \n",
       "0  /jobs/junior-administrator-operations-at-absa-...  05 May  \n",
       "1                   /job/office-administrator-amanbo  05 May  \n",
       "2  /job/customer-service-representative-mombasa-b...  05 May  \n",
       "3        /jobs/careers-at-jamii-telecommunications-1  05 May  \n",
       "4                      /jobs/jobs-at-adept-systems-2  05 May  "
      ]
     },
     "execution_count": 6,
     "metadata": {},
     "output_type": "execute_result"
    }
   ],
   "source": [
    "data.head()"
   ]
  },
  {
   "cell_type": "code",
   "execution_count": 16,
   "id": "8a2b51eb-ab5f-4903-880b-d34adc3a6154",
   "metadata": {},
   "outputs": [
    {
     "name": "stdout",
     "output_type": "stream",
     "text": [
      "02 May\n"
     ]
    }
   ],
   "source": [
    "print (soup.find(\"li\",  id =\"job-date\").text.strip())"
   ]
  },
  {
   "cell_type": "code",
   "execution_count": 22,
   "id": "67881086-d52d-4880-beba-9c56cccf8892",
   "metadata": {},
   "outputs": [
    {
     "name": "stdout",
     "output_type": "stream",
     "text": [
      "Finance Manager (Nairobi) at Teleperformance\n"
     ]
    }
   ],
   "source": [
    "print(soup.find(\"h2\").find(\"a\").text.strip())"
   ]
  },
  {
   "cell_type": "code",
   "execution_count": 23,
   "id": "eb1c0f0a-fda3-4c85-bec7-fa409ff53c28",
   "metadata": {},
   "outputs": [
    {
     "name": "stdout",
     "output_type": "stream",
     "text": [
      "/job/finance-manager-nairobi-teleperformance\n"
     ]
    }
   ],
   "source": [
    "print(soup.find(\"h2\").find(\"a\")[\"href\"])"
   ]
  },
  {
   "cell_type": "code",
   "execution_count": 24,
   "id": "3b820414-52a5-4353-9828-7c64504f7f88",
   "metadata": {},
   "outputs": [
    {
     "name": "stdout",
     "output_type": "stream",
     "text": [
      "[<h2><a href=\"/job/finance-manager-nairobi-teleperformance\" style=\" \">Finance Manager (Nairobi) at Teleperformance</a></h2>, <h2><a href=\"/jobs/current-jobs-at-reeds-africa-consult-2\" style=\" \">Current Jobs at Reeds Africa Consult</a></h2>, <h2><a href=\"/jobs/advertisement-for-contracts-staff-research-assistants-and-casuals-at-kenya-institute-for-public-policy-research-and-analysis-kippra\" style=\" \">Advertisement for Contracts Staff, Research Assistants and Casuals at Kenya Institute for Public Policy Research and Analysis (KIPPRA)</a></h2>, <h2><a href=\"/job/assistant-engineer\" style=\" \">Assistant Engineer at a Reputable Company</a></h2>, <h2><a href=\"/jobs/vacancies-at-laikipia-county-government-1\" style=\" \">Vacancies at Laikipia County Government</a></h2>, <h2><a href=\"/job/customer-service-executive-gypsum-ceiling-supplies-ltd\" style=\" \">Customer Service Executive at Gypsum Ceiling Supplies Limited</a></h2>, <h2><a href=\"/job/plumbing-water-heater-technician-motorbike-rider-gypsum-ceiling-supplies-ltd\" style=\" \">Plumbing/Water Heater Technician &amp; Motorbike Rider at Gypsum Ceiling Supplies Limited</a></h2>, <h2><a href=\"/job/project-formulation-expert-united-nations-environment-programme-unep\" style=\" \">Project Formulation Expert at United Nations Environment Programme (UNEP)</a></h2>, <h2><a href=\"/job/regional-manager-education-western-kenya-eidu\" style=\" \">Regional Manager, Education (Western, Kenya) at EIDU</a></h2>, <h2><a href=\"/job/kuja-learning-content-creator-adeso\" style=\" \">Kuja Learning Content Creator at African Development Solutions (Adeso)</a></h2>, <h2><a href=\"/job/it-support-specialist-tatu-city-limited\" style=\" \">IT Support Specialist at Tatu City Limited</a></h2>, <h2><a href=\"/job/sales-specialist-momentum-credit\" style=\" \">Sales Specialist at Momentum Credit</a></h2>, <h2><a href=\"/job/internal-auditor-umba\" style=\" \">Internal Auditor at Umba</a></h2>, <h2><a href=\"/job/chief-of-party-acdi-voca-6\" style=\" \">Chief of Party at ACDI/VOCA</a></h2>, <h2><a href=\"/job/senior-project-manager-pharmaccess-group\" style=\" \">Senior Project Manager at PharmAccess Group</a></h2>, <h2><a href=\"/job/senior-manager-humanitarian-givedirectly\" style=\" \">Senior Manager, Humanitarian at GiveDirectly</a></h2>, <h2><a href=\"/job/key-account-manager-bolt-1\" style=\" \">Key Account Manager at Bolt</a></h2>, <h2><a href=\"/job/avocado-oil-consultant-one-acre-fund\" style=\" \">Avocado Oil Consultant at One Acre Fund</a></h2>, <h2><a href=\"/jobs/current-jobs-at-safaricom-kenya\" style=\" \">Current Jobs at Safaricom Kenya</a></h2>, <h2><a href=\"/jobs/job-openings-at-icea-lion-group\" style=\" \">Job Openings at ICEA Lion Group</a></h2>, <h2><a href=\"/job/regional-director-c40-cities\" style=\" \">Regional Director at C40 Cities</a></h2>, <h2><a href=\"/job/college-secretary-baraka-agriculture-college-1\" style=\" \">College Secretary at Baraka Agriculture College</a></h2>, <h2><a href=\"/job/head-of-revenue-growth-management-diageo-1\" style=\" \">Head of Revenue Growth Management at Diageo</a></h2>, <h2><a href=\"/job/kuja-latin-america-and-caribbean-engagement-manager-adeso\" style=\" \">Kuja Latin America and Caribbean Engagement Manager at African Development Solutions (Adeso)</a></h2>, <h2><a href=\"/job/administrator-radio44\" style=\" \">Administrator at Radio44</a></h2>, <h2 class=\"main-h2\">Subscribe to Job Alert</h2>, <h2 class=\"main-h2\">Subscribe to Job Alert</h2>, <h2>Career Advice</h2>, <h2 class=\"main-h2\">Subscribe to Job Alert</h2>, <h2 class=\"ts-18 tc-b3\" style=\"margin-top:0px;\">Current Jobs in Kenya</h2>]\n"
     ]
    }
   ],
   "source": [
    "print (soup.find_all(\"h2\"))"
   ]
  },
  {
   "cell_type": "code",
   "execution_count": null,
   "id": "9eb0605a-78fa-4e0b-87a5-fb9dfcdb5a4a",
   "metadata": {},
   "outputs": [],
   "source": []
  }
 ],
 "metadata": {
  "kernelspec": {
   "display_name": "Python 3 (ipykernel)",
   "language": "python",
   "name": "python3"
  },
  "language_info": {
   "codemirror_mode": {
    "name": "ipython",
    "version": 3
   },
   "file_extension": ".py",
   "mimetype": "text/x-python",
   "name": "python",
   "nbconvert_exporter": "python",
   "pygments_lexer": "ipython3",
   "version": "3.11.7"
  }
 },
 "nbformat": 4,
 "nbformat_minor": 5
}
